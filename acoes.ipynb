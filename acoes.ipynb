{
 "cells": [
  {
   "cell_type": "code",
   "execution_count": null,
   "id": "da65f213-a0ec-425a-a9f6-e149a3c1bf39",
   "metadata": {},
   "outputs": [],
   "source": [
    "# CÓDIGO PARA BAIXAR AS BIBLIOTECAS\n",
    "# !pip install pandas\n",
    "# !pip install matplotlib\n",
    "# !pip install yfinance\n",
    "# !pip install DateTime \n",
    "# !pip install numpy "
   ]
  },
  {
   "cell_type": "code",
   "execution_count": null,
   "id": "cff9eaea-81c1-4730-9e0f-f72f388a951c",
   "metadata": {},
   "outputs": [],
   "source": [
    "# IMPORTANDO TODAS AS BIBLIOTECAS UTILIZADA NESSE PROJETO\n",
    "import pandas as pd\n",
    "import matplotlib.pyplot as plt\n",
    "import yfinance as yf\n",
    "from datetime import date, timedelta, datetime\n",
    "import numpy as np"
   ]
  },
  {
   "cell_type": "code",
   "execution_count": null,
   "id": "d3b70509-303b-4fa3-91e5-ec55937cd9c8",
   "metadata": {},
   "outputs": [],
   "source": [
    "# DETERMINANDO A EMPRESA E A QUANTIDADE DE DIAS PARA A ANÁLISE\n",
    "quant_dias = 5000\n",
    "ticker = \"GGBR4.SA\" # GERDAU"
   ]
  },
  {
   "cell_type": "code",
   "execution_count": null,
   "id": "090cedd7-122d-4643-b0d6-41a09ee220a1",
   "metadata": {},
   "outputs": [],
   "source": [
    "# OBTENDO A DATA ATUAL E A DATA DO INÍCIO DA ANÁLISE\n",
    "data_atual = datetime.now()\n",
    "data_periodo = data_atual - timedelta(days=quant_dias)"
   ]
  },
  {
   "cell_type": "code",
   "execution_count": null,
   "id": "7a1a1532-00da-473c-ad1c-4c1bccec0746",
   "metadata": {},
   "outputs": [],
   "source": [
    "# BAIXANDO TODA SÉRIE HISTÓRICA DO ATIVO \n",
    "precos_acoes = yf.download(ticker, start = data_periodo, end = data_atual)"
   ]
  },
  {
   "cell_type": "code",
   "execution_count": null,
   "id": "86c19ef3-245e-4c1b-aba4-a77a15ea0c86",
   "metadata": {},
   "outputs": [],
   "source": [
    "# EXIBINDO O DATAFRAME DA SÉRIE HISTÓRICA DOS PREÇOS\n",
    "precos_acoes"
   ]
  },
  {
   "cell_type": "code",
   "execution_count": null,
   "id": "18f934f8-30fe-4964-9580-d427b181d766",
   "metadata": {},
   "outputs": [],
   "source": [
    "# PLOTANDO O GRÁFICO\n",
    "plt.figure(figsize=(15,3))\n",
    "plt.plot(precos_acoes[\"Close\"], label=\"Preço Gerdau\")\n",
    "plt.title(\"Ações da Gerdau\")\n",
    "plt.ylabel(\"Preços\")\n",
    "plt.xlabel(\"Ano\")\n",
    "plt.grid()\n",
    "plt.legend()\n",
    "plt.show()"
   ]
  },
  {
   "cell_type": "code",
   "execution_count": null,
   "id": "53ae5931-ee3c-4d08-82d3-8a25aca8f58b",
   "metadata": {},
   "outputs": [],
   "source": [
    "# OBTENDO A DATA EM QUE FOI COMPRADO O ATIVO E O SEU VALOR \n",
    "data_compra = pd.to_datetime(\"2024-06-18\")\n",
    "df_filtro = precos_acoes.query('Date==@data_compra')\n",
    "df_filtro"
   ]
  },
  {
   "cell_type": "code",
   "execution_count": null,
   "id": "3234a119-e263-4d0f-87a4-179f73828a59",
   "metadata": {},
   "outputs": [],
   "source": [
    "# OBTENDO, DO DATAFRAME, APENAS AS COLUNAS DA DATA E DO PREÇO DE FECHAMENTO\n",
    "data_compra_filtro = df_filtro.index[0]\n",
    "preco_compra_filtro = df_filtro[\"Close\"].iloc[0]"
   ]
  },
  {
   "cell_type": "code",
   "execution_count": null,
   "id": "eed509de-ca32-49e4-bcce-451fcb4ce809",
   "metadata": {},
   "outputs": [],
   "source": [
    "# PLOTANDO O GRÁFICO E COLOCANDO UMA LINHA TRACEJADA COMO REFERÊNCIA DO VALOR DA COMPRA DO ATIVO\n",
    "plt.figure(figsize=(15,3))\n",
    "plt.plot(precos_acoes[\"Close\"], label=\"Preço Gerdau\")\n",
    "plt.scatter(data_compra_filtro,preco_compra_filtro, color='red')\n",
    "plt.axhline(preco_compra_filtro, color='black', linestyle='--', label = preco_compra_filtro)\n",
    "\n",
    "plt.title(\"Ações da Gerdau\")\n",
    "plt.ylabel(\"Preços\")\n",
    "plt.xlabel(\"Ano\")\n",
    "plt.grid()\n",
    "plt.legend()\n",
    "plt.show()"
   ]
  },
  {
   "cell_type": "code",
   "execution_count": null,
   "id": "290e7639-12a6-43c7-8e6f-dbab74ff40e5",
   "metadata": {},
   "outputs": [],
   "source": [
    "# OBTENDO A DATA ATUAL E O PREÇO ATUAL DO ATIVO\n",
    "data_atual = precos_acoes.index[-1]\n",
    "preco_atual = precos_acoes[\"Close\"].iloc[-1]"
   ]
  },
  {
   "cell_type": "code",
   "execution_count": null,
   "id": "0f19730e-dbb9-4105-8a2b-80cbe7ec1cc0",
   "metadata": {},
   "outputs": [],
   "source": [
    "# PLOTANDO O GRÁFICO E COLOCANDO UMA LINHA TRACEJADA COMO REFERÊNCIA DO VALOR ATUAL DO ATIVO\n",
    "plt.figure(figsize=(15,3))\n",
    "plt.plot(precos_acoes[\"Close\"], label=\"Preço Gerdau\")\n",
    "\n",
    "plt.scatter(data_compra_filtro,preco_compra_filtro, color='red')\n",
    "plt.axhline(preco_compra_filtro, color='black', linestyle='--', label = f'Preço de compra : {preco_compra_filtro:.2f}')\n",
    "\n",
    "plt.scatter(data_atual,preco_atual, color='red')\n",
    "plt.axhline(preco_atual, color='red', linestyle='--', label = f'Preço atual : {preco_atual:.2f}')\n",
    "\n",
    "plt.title(\"Ações da Gerdau\")\n",
    "plt.ylabel(\"Preços\")\n",
    "plt.xlabel(\"Ano\")\n",
    "plt.grid()\n",
    "plt.legend()\n",
    "plt.show()"
   ]
  },
  {
   "cell_type": "code",
   "execution_count": null,
   "id": "94d80698-ef80-482a-b761-f4c7da65c275",
   "metadata": {},
   "outputs": [],
   "source": [
    "# DETERMINANDO A PORCENTAGEM DE GANHO/PERDA \n",
    "porcentagem = ((preco_atual-preco_compra_filtro)/preco_compra_filtro)*100"
   ]
  },
  {
   "cell_type": "code",
   "execution_count": null,
   "id": "b99dfcf3-3c40-4305-b1df-3873ba9b8dba",
   "metadata": {},
   "outputs": [],
   "source": [
    "# EXIBINDO A PORCENTAGEM DE GANHO/PERDA E PLOTANDO O GRÁFICO \n",
    "plt.figure(figsize=(15,3))\n",
    "plt.plot(precos_acoes[\"Close\"], label=\"Preço Gerdau\")\n",
    "\n",
    "plt.scatter(data_compra_filtro,preco_compra_filtro, color='red')\n",
    "plt.axhline(preco_compra_filtro, color='black', linestyle='--', label = f'Preço de compra : {preco_compra_filtro:.2f}')\n",
    "\n",
    "plt.scatter(data_atual,preco_atual, color='red')\n",
    "plt.axhline(preco_atual, color='red', linestyle='--', label = f'Preço atual : {preco_atual:.2f}')\n",
    "\n",
    "plt.title(f\"Ações da Gerdau -> Ganho/Prejuízo: {porcentagem:.2f} %\")\n",
    "plt.ylabel(\"Preços\")\n",
    "plt.xlabel(\"Ano\")\n",
    "plt.grid()\n",
    "plt.legend()\n",
    "plt.show()"
   ]
  },
  {
   "cell_type": "code",
   "execution_count": null,
   "id": "fb11458f-cedb-46d3-a02e-99b8fb184186",
   "metadata": {},
   "outputs": [],
   "source": [
    "# DETERMINANDO A PORCENTAGEM DE GANHO (PORCENTAGEM DE RETORNO)\n",
    "porcent = 2.731\n",
    "porcentagem_alvo = ((porcent/100)*preco_compra_filtro)+preco_compra_filtro"
   ]
  },
  {
   "cell_type": "code",
   "execution_count": null,
   "id": "b414642d-05d6-462f-a28e-0daa4522dc60",
   "metadata": {},
   "outputs": [],
   "source": [
    "# EXIBINDO A PORCENTAGEM DE GANHO/PERDA E PLOTANDO O GRÁFICO E COLOCANDO UMA LINHA TRACEJADA COMO REFERÊNCIA DO VALOR DO ALVO \n",
    "plt.figure(figsize=(15,3))\n",
    "plt.plot(precos_acoes[\"Close\"], label=\"Preço Gerdau\")\n",
    "\n",
    "plt.scatter(data_compra_filtro,preco_compra_filtro, color='red')\n",
    "plt.axhline(preco_compra_filtro, color='black', linestyle='--', label = f'Preço de compra : {preco_compra_filtro:.2f}')\n",
    "\n",
    "plt.scatter(data_atual,preco_atual, color='red')\n",
    "plt.axhline(preco_atual, color='red', linestyle='--', label = f'Preço atual : {preco_atual:.2f}')\n",
    "\n",
    "plt.axhline(porcentagem_alvo, color='green', linestyle='--', label = f'Preço Alvo : {porcentagem_alvo:.2f}')\n",
    "\n",
    "plt.title(f\"Ações da Gerdau -> Ganho/Prejuízo: {porcentagem:.2f} %\")\n",
    "plt.ylabel(\"Preços\")\n",
    "plt.xlabel(\"Ano\")\n",
    "plt.grid()\n",
    "plt.legend()\n",
    "plt.show()"
   ]
  },
  {
   "cell_type": "code",
   "execution_count": null,
   "id": "0df0e1da-6880-4212-a158-461f23ccef29",
   "metadata": {},
   "outputs": [],
   "source": [
    "# CRIANDO MAIS TRÊS COLUNAS NO DATAFRAME (precos_acoes)\n",
    "precos_acoes[\"nome_dia\"] = precos_acoes.index.day_name()\n",
    "precos_acoes[\"mes\"] = precos_acoes.index.month\n",
    "precos_acoes[\"ano\"] = precos_acoes.index.year\n",
    "precos_acoes"
   ]
  },
  {
   "cell_type": "code",
   "execution_count": null,
   "id": "1d78d8e5-351c-4f2e-b7f9-80a2ca3c12e9",
   "metadata": {},
   "outputs": [],
   "source": [
    "# FAZENDO UM FILTRO PELA COLUNA NOME_DIA E OBTENDO APENAS OS PREÇOS DE FECHAMENTO DA SEGUNDA-FEIRA (MONDAY)\n",
    "filtro_dia = precos_acoes.query(\"nome_dia == 'Monday' \")\n",
    "filtro_dia = filtro_dia.copy()\n",
    "filtro_dia"
   ]
  },
  {
   "cell_type": "code",
   "execution_count": null,
   "id": "710f24de-3966-4cd0-84a4-31b2b70e5092",
   "metadata": {},
   "outputs": [],
   "source": [
    "# FAZENDO A DIFERENÇA ENTRE OS PREÇOS DE FECHAMENTO ENTRE A SEMANA SEGUINTE COM A SEMANA ANTERIOR\n",
    "filtro_dia[\"diff_preco\"] = filtro_dia[\"Close\"].diff()\n",
    "filtro_dia"
   ]
  },
  {
   "cell_type": "code",
   "execution_count": null,
   "id": "71613638-9a35-4163-a5d9-2b7db37e5811",
   "metadata": {},
   "outputs": [],
   "source": [
    "# CRIANDO MAIS UMA COLUNA COM A PORCENTAGEM DA DIFERENÇA ENTRE OS PREÇOS DA COLUNA CRIADA ANTERIORMENTE (diff_preco)\n",
    "filtro_dia[\"porcentagem_diff\"] = round(filtro_dia[\"diff_preco\"]/filtro_dia[\"Close\"].shift(1)*100,2)\n",
    "filtro_dia"
   ]
  },
  {
   "cell_type": "code",
   "execution_count": null,
   "id": "9f3706ef-0174-401a-8c73-84c3df8f3cd1",
   "metadata": {},
   "outputs": [],
   "source": [
    "# OBTENDO, DA COLUNA (porcentagem_diff), APENAS AS PORCENTAGENS POSITIVAS\n",
    "filtro_porcentagem = filtro_dia.query(\"porcentagem_diff > 0\")\n",
    "filtro_porcentagem"
   ]
  },
  {
   "cell_type": "code",
   "execution_count": null,
   "id": "3e6c5f82-543a-4c3a-88ef-4084e186cbf5",
   "metadata": {},
   "outputs": [],
   "source": [
    "# PLOTANDO O HISTOGRAMA DA COLUNA (porcentagem_diff) COM OS VALORES POSITIVOS\n",
    "plt.hist(filtro_porcentagem[\"porcentagem_diff\"], bins=50, edgecolor=\"black\")\n",
    "plt.show()"
   ]
  },
  {
   "cell_type": "code",
   "execution_count": null,
   "id": "90a4ff7e-407f-429a-ae04-faadd065ea81",
   "metadata": {},
   "outputs": [],
   "source": [
    "# CALCULANDO A MÉDIA DAS 10 PORCENTAGENS QUE POSSUEM MAIOR FREQUÊNCIA NA COLUNA (porcentagem_diff)\n",
    "porcentagem = filtro_porcentagem[\"porcentagem_diff\"]\n",
    "porcentage_freq_df = porcentagem.value_counts().reset_index()\n",
    "porcentage_freq_df.columns = [\"porcentagem_diff\",\"frequencia\"]\n",
    "porcentage_freq_df = porcentage_freq_df.sort_values(by=\"frequencia\", ascending=False).reset_index(drop=True)\n",
    "porcentage_freq_df = porcentage_freq_df.head(10)\n",
    "media_freq = porcentage_freq_df[\"porcentagem_diff\"].mean()"
   ]
  },
  {
   "cell_type": "code",
   "execution_count": null,
   "id": "8ffaa768-224d-40ad-a97b-ccab2b1bee5d",
   "metadata": {},
   "outputs": [],
   "source": [
    "# PLOTANDO O HISTOGRAMA COM A LINHA VERTICAL TRACEJADA INDICANDO A MÉDIA DA PORCENTAGEM DE REFERÊNCIA\n",
    "plt.hist(porcentagem, bins=50, edgecolor=\"black\")\n",
    "plt.axvline(media_freq, linestyle=\"--\", color='red', label = f'{media_freq} %')\n",
    "plt.legend()\n",
    "plt.show()"
   ]
  },
  {
   "cell_type": "code",
   "execution_count": null,
   "id": "f272c92e-5ba3-453e-a0f8-b13bda5f7c4e",
   "metadata": {},
   "outputs": [],
   "source": [
    "# ÍNDICE DE FORÇA RELATIVA IFR (RSI)\n",
    "# OBTENDO O DATAFRAME COM DUAS COLUNAS (Data e Close)\n",
    "# CRIANDO NOVAS COLUNAS NESSE DATAFRAME \n",
    "IFR_df = pd.DataFrame(precos_acoes[\"Close\"])[3000:]\n",
    "IFR_df[\"diff_valores\"] = IFR_df[\"Close\"].diff()\n",
    "IFR_df[\"ganho\"] = IFR_df[\"diff_valores\"].clip(lower=0)\n",
    "IFR_df[\"perda\"] = IFR_df[\"diff_valores\"].clip(upper=0).abs()\n",
    "IFR_df[\"media_ganho\"] = IFR_df[\"ganho\"].rolling(window=14, min_periods=1).mean()\n",
    "IFR_df[\"media_perda\"] = IFR_df[\"perda\"].rolling(window=14, min_periods=1).mean()\n",
    "IFR_df"
   ]
  },
  {
   "cell_type": "code",
   "execution_count": null,
   "id": "267b154a-903e-4de9-a056-9e63beb8f8a5",
   "metadata": {},
   "outputs": [],
   "source": [
    "# CALCULANDO O ÍNDICE DE FORÇA RELATIVA E CRIANDO NOVAS COLUNAS (IFR, valor_up, valor_down)\n",
    "IFR_df[\"IFR\"] = 100-(100/(1+IFR_df[\"media_ganho\"]/IFR_df[\"media_perda\"]))\n",
    "IFR_df[\"valor_up\"] = IFR_df[\"IFR\"].apply(lambda x: x if x > 70 else np.nan)\n",
    "IFR_df[\"valor_down\"] = IFR_df[\"IFR\"].apply(lambda x: x if x < 30 else np.nan)\n",
    "IFR_df"
   ]
  },
  {
   "cell_type": "code",
   "execution_count": null,
   "id": "ac700165-5760-48e5-a31f-072df2ca6028",
   "metadata": {},
   "outputs": [],
   "source": [
    "# PLOTANDO O GRÁFICO DO INDICE DE FORÇA RELATIVA COM SUAS LINHAS DE LIMITE SUPERIOR E INFERIOR E SEUS RESPECTIVOS MARCADORES.\n",
    "plt.figure(figsize=(15, 3))\n",
    "plt.plot(IFR_df.index, IFR_df[\"IFR\"], color=\"black\", linewidth=0.5)\n",
    "plt.scatter(IFR_df.index, IFR_df[\"valor_up\"], color=\"red\", label=\"venda\", marker='v', s=30)\n",
    "plt.scatter(IFR_df.index, IFR_df[\"valor_down\"], color=\"green\", label=\"compra\", marker='v', s=30)\n",
    "plt.axhline(y=70, color=\"red\", linestyle=\"--\")\n",
    "plt.axhline(y=30, color=\"green\", linestyle=\"--\")\n",
    "plt.xlabel('Data')\n",
    "plt.ylabel('IFR')\n",
    "plt.legend(loc=\"upper left\")\n",
    "plt.show()"
   ]
  }
 ],
 "metadata": {
  "kernelspec": {
   "display_name": "Python 3 (ipykernel)",
   "language": "python",
   "name": "python3"
  },
  "language_info": {
   "codemirror_mode": {
    "name": "ipython",
    "version": 3
   },
   "file_extension": ".py",
   "mimetype": "text/x-python",
   "name": "python",
   "nbconvert_exporter": "python",
   "pygments_lexer": "ipython3",
   "version": "3.11.4"
  }
 },
 "nbformat": 4,
 "nbformat_minor": 5
}
